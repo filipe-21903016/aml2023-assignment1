{
 "cells": [
  {
   "cell_type": "code",
   "execution_count": 4,
   "id": "9078121c-2d1c-4c99-8e39-5000adbc89a9",
   "metadata": {
    "scrolled": true,
    "tags": []
   },
   "outputs": [
    {
     "name": "stdout",
     "output_type": "stream",
     "text": [
      "Requirement already satisfied: pandas in /Users/fzarco/miniconda3/envs/env_aml/lib/python3.11/site-packages (2.0.3)\n",
      "Requirement already satisfied: python-dateutil>=2.8.2 in /Users/fzarco/miniconda3/envs/env_aml/lib/python3.11/site-packages (from pandas) (2.8.2)\n",
      "Requirement already satisfied: pytz>=2020.1 in /Users/fzarco/miniconda3/envs/env_aml/lib/python3.11/site-packages (from pandas) (2022.7)\n",
      "Requirement already satisfied: tzdata>=2022.1 in /Users/fzarco/miniconda3/envs/env_aml/lib/python3.11/site-packages (from pandas) (2023.3)\n",
      "Requirement already satisfied: numpy>=1.21.0 in /Users/fzarco/miniconda3/envs/env_aml/lib/python3.11/site-packages (from pandas) (1.25.2)\n",
      "Requirement already satisfied: six>=1.5 in /Users/fzarco/miniconda3/envs/env_aml/lib/python3.11/site-packages (from python-dateutil>=2.8.2->pandas) (1.16.0)\n",
      "Requirement already satisfied: matplotlib in /Users/fzarco/miniconda3/envs/env_aml/lib/python3.11/site-packages (3.8.0)\n",
      "Requirement already satisfied: contourpy>=1.0.1 in /Users/fzarco/miniconda3/envs/env_aml/lib/python3.11/site-packages (from matplotlib) (1.1.1)\n",
      "Requirement already satisfied: cycler>=0.10 in /Users/fzarco/miniconda3/envs/env_aml/lib/python3.11/site-packages (from matplotlib) (0.12.1)\n",
      "Requirement already satisfied: fonttools>=4.22.0 in /Users/fzarco/miniconda3/envs/env_aml/lib/python3.11/site-packages (from matplotlib) (4.43.1)\n",
      "Requirement already satisfied: kiwisolver>=1.0.1 in /Users/fzarco/miniconda3/envs/env_aml/lib/python3.11/site-packages (from matplotlib) (1.4.5)\n",
      "Requirement already satisfied: numpy<2,>=1.21 in /Users/fzarco/miniconda3/envs/env_aml/lib/python3.11/site-packages (from matplotlib) (1.25.2)\n",
      "Requirement already satisfied: packaging>=20.0 in /Users/fzarco/miniconda3/envs/env_aml/lib/python3.11/site-packages (from matplotlib) (23.1)\n",
      "Requirement already satisfied: pillow>=6.2.0 in /Users/fzarco/miniconda3/envs/env_aml/lib/python3.11/site-packages (from matplotlib) (10.0.1)\n",
      "Requirement already satisfied: pyparsing>=2.3.1 in /Users/fzarco/miniconda3/envs/env_aml/lib/python3.11/site-packages (from matplotlib) (3.1.1)\n",
      "Requirement already satisfied: python-dateutil>=2.7 in /Users/fzarco/miniconda3/envs/env_aml/lib/python3.11/site-packages (from matplotlib) (2.8.2)\n",
      "Requirement already satisfied: six>=1.5 in /Users/fzarco/miniconda3/envs/env_aml/lib/python3.11/site-packages (from python-dateutil>=2.7->matplotlib) (1.16.0)\n",
      "Requirement already satisfied: numpy in /Users/fzarco/miniconda3/envs/env_aml/lib/python3.11/site-packages (1.25.2)\n",
      "Requirement already satisfied: scikit-learn in /Users/fzarco/miniconda3/envs/env_aml/lib/python3.11/site-packages (1.2.2)\n",
      "Requirement already satisfied: numpy>=1.17.3 in /Users/fzarco/miniconda3/envs/env_aml/lib/python3.11/site-packages (from scikit-learn) (1.25.2)\n",
      "Requirement already satisfied: scipy>=1.3.2 in /Users/fzarco/miniconda3/envs/env_aml/lib/python3.11/site-packages (from scikit-learn) (1.11.1)\n",
      "Requirement already satisfied: joblib>=1.1.1 in /Users/fzarco/miniconda3/envs/env_aml/lib/python3.11/site-packages (from scikit-learn) (1.2.0)\n",
      "Requirement already satisfied: threadpoolctl>=2.0.0 in /Users/fzarco/miniconda3/envs/env_aml/lib/python3.11/site-packages (from scikit-learn) (2.2.0)\n",
      "Requirement already satisfied: ConfigSpace in /Users/fzarco/miniconda3/envs/env_aml/lib/python3.11/site-packages (0.7.1)\n",
      "Requirement already satisfied: numpy in /Users/fzarco/miniconda3/envs/env_aml/lib/python3.11/site-packages (from ConfigSpace) (1.25.2)\n",
      "Requirement already satisfied: pyparsing in /Users/fzarco/miniconda3/envs/env_aml/lib/python3.11/site-packages (from ConfigSpace) (3.1.1)\n",
      "Requirement already satisfied: scipy in /Users/fzarco/miniconda3/envs/env_aml/lib/python3.11/site-packages (from ConfigSpace) (1.11.1)\n",
      "Requirement already satisfied: typing-extensions in /Users/fzarco/miniconda3/envs/env_aml/lib/python3.11/site-packages (from ConfigSpace) (4.7.1)\n",
      "Requirement already satisfied: more-itertools in /Users/fzarco/miniconda3/envs/env_aml/lib/python3.11/site-packages (from ConfigSpace) (10.1.0)\n"
     ]
    }
   ],
   "source": [
    "!pip install pandas\n",
    "!pip install matplotlib\n",
    "!pip install numpy\n",
    "!pip install scikit-learn\n",
    "!pip install ConfigSpace"
   ]
  },
  {
   "cell_type": "code",
   "execution_count": 6,
   "id": "7c80642f-3da0-45fc-ba73-730e0eb70d1c",
   "metadata": {
    "tags": []
   },
   "outputs": [],
   "source": [
    "import pandas as pd\n",
    "import scipy.stats as stats\n",
    "from time import time\n",
    "import numpy as np\n",
    "import typing\n",
    "import ConfigSpace\n",
    "\n",
    "import sklearn.model_selection\n",
    "from sklearn import svm\n",
    "from sklearn.model_selection import GridSearchCV, RandomizedSearchCV, train_test_split\n",
    "from sklearn.datasets import fetch_openml\n",
    "from sklearn.neural_network import MLPClassifier, MLPRegressor\n",
    "\n",
    "from matplotlib import pyplot as plt\n",
    "\n",
    "np.random.seed(0)"
   ]
  },
  {
   "cell_type": "code",
   "execution_count": 7,
   "id": "180cc5e3-f7de-4f1e-ba78-2056362e879d",
   "metadata": {
    "tags": []
   },
   "outputs": [],
   "source": [
    "def stock_tuning(X_train, y_train, model):\n",
    "    model.fit(X_train, y_train)\n",
    "    return model"
   ]
  },
  {
   "cell_type": "code",
   "execution_count": 8,
   "id": "49d35e32-2839-4a6c-af65-0ec8b96439b2",
   "metadata": {
    "tags": []
   },
   "outputs": [],
   "source": [
    "def random_search(X_train, y_train, model, param_dist, n_iter):\n",
    "    random_search = RandomizedSearchCV(model, param_distributions=param_dist, n_iter=n_iter)\n",
    "    start = time()\n",
    "    random_search.fit(X_train, y_train)\n",
    "    return random_search, time()-start"
   ]
  },
  {
   "cell_type": "code",
   "execution_count": 9,
   "id": "6bface25-7f05-480a-b095-cacfb6593fa6",
   "metadata": {
    "tags": []
   },
   "outputs": [],
   "source": [
    "def grid_search(X_train, y_train, model, param_grid):\n",
    "    grid_search = GridSearchCV(model, param_grid=param_grid)\n",
    "    start = time()\n",
    "    grid_search.fit(X_train, y_train)\n",
    "    return grid_search, time()-start"
   ]
  },
  {
   "cell_type": "code",
   "execution_count": 15,
   "id": "68ee8bf0-a7be-4b5b-9f7f-beef8c24e864",
   "metadata": {
    "tags": []
   },
   "outputs": [],
   "source": [
    "def sample_configurations_svc(n_configurations):\n",
    "        cs = ConfigSpace.ConfigurationSpace('sklearn.svm.SVC', 1)\n",
    "\n",
    "        C = ConfigSpace.UniformFloatHyperparameter(\n",
    "            name='C', lower=1, upper=1000, log=True, default_value=1.0)\n",
    "        gamma = ConfigSpace.UniformFloatHyperparameter(\n",
    "            name='gamma', lower=1e-05, upper=1, log=True, default_value=0.1)\n",
    "        cs.add_hyperparameters([C, gamma])\n",
    "\n",
    "        configs = np.array([(configuration['gamma'],\n",
    "                            configuration['C'])\n",
    "                        for configuration in cs.sample_configuration(n_configurations)])\n",
    "    \n",
    "        return configs"
   ]
  },
  {
   "cell_type": "code",
   "execution_count": 22,
   "id": "e594cc75-e667-4aa9-aa7b-875004db5610",
   "metadata": {
    "tags": []
   },
   "outputs": [],
   "source": [
    "def acc_score(model, X_test, y_test):\n",
    "    return model.score(X_test, y_test)"
   ]
  },
  {
   "cell_type": "code",
   "execution_count": 23,
   "id": "3eff443a-793b-41a1-a040-70330f9807b1",
   "metadata": {
    "tags": []
   },
   "outputs": [],
   "source": [
    "def smbo_optimize(theta_new, model):\n",
    "    # Optimize SVC\n",
    "    model.set_params(kernel='rbf', gamma=theta_new[0], C=theta_new[1])\n",
    "    model.fit(X_train, y_train)\n",
    "    \n",
    "def smbo_search(X_train, y_train, model, smbo_config_space, iter_ = 100):\n",
    "    smbo = SequentialModelBasedOptimization()\n",
    "    start = time()\n",
    "    smbo.initialize(sample_initial_configurations(10))\n",
    "    for i in range(iter_):\n",
    "        smbo.fit_model()\n",
    "        theta_new = smbo.select_configuration(sample_configurations_svc(64))\n",
    "        \n",
    "        \n",
    "        \n",
    "        performance = model.score(X_test, y_test)\n",
    "        \n",
    "        smbo.update_runs((theta_new, performance))\n",
    "    \n",
    "    \n",
    "    end = time() - start\n",
    "    _, best_config = smbo.return_best_configuration()\n",
    "    model.set_params(kernel='rbf', gamma=best_config[0], C=best_config[1])\n",
    "    return model, end\n",
    "    "
   ]
  },
  {
   "cell_type": "code",
   "execution_count": 26,
   "id": "35f10a6b-9891-4b1b-be38-8817b618504a",
   "metadata": {
    "tags": []
   },
   "outputs": [],
   "source": [
    "def evaluate_svc(\n",
    "    datasets_ids, \n",
    "    random_search_params = None,\n",
    "    grid_search_params = None,\n",
    "    smbo_config_space = None\n",
    "):\n",
    "    results = pd.DataFrame(columns=[\"Dataset\", \"Stock\", \"Grid-Search\", \"Random-Search\", \"SMBO\"])\n",
    "    for id_ in datasets_ids:\n",
    "        # Fetch dataset\n",
    "        dataset = fetch_openml(data_id=id_, as_frame=True, parser=\"pandas\")\n",
    "        \n",
    "        X = pd.DataFrame(data=dataset.data, columns=dataset.feature_names)  \n",
    "        y = dataset.target\n",
    "        \n",
    "        # Split dataset in Training-Test\n",
    "        X_train, X_test, y_train, y_test = train_test_split(X, y, random_state=0, test_size=0.3)\n",
    "        \n",
    "        # Initilize Support Vector Classifiers\n",
    "        svc1, svc2, svc3, svc4 = svm.SVC(), svm.SVC(), svm.SVC(), svm.SVC()\n",
    "        \n",
    "        # No-tuning\n",
    "        stock_svc, stock_time = stock_tuning(X_train, y_train, svc1)\n",
    "        stock_acc = acc_score(stock_svc, X_test, y_test)\n",
    "        \n",
    "        # Random-search tuning\n",
    "        default_random_search_params = {\n",
    "            \"kernel\": ['rbf'],\n",
    "            \"gamma\": stats.uniform(1e-1, 1e-5),\n",
    "            \"C\": stats.uniform(1, 1000)\n",
    "        }\n",
    "        rand_svc, rand_time = random_search(X_train, y_train, svc2, \n",
    "                                            default_random_search_params if not random_search_params else random_search_params, \n",
    "                                            100)\n",
    "        rand_acc = acc_score(rand_svc, X_test, y_test)\n",
    "        \n",
    "        # Grid-search tuning\n",
    "        default_grid_search_params = {\n",
    "            \"kernel\": ['rbf'],\n",
    "            \"gamma\": [1e-1, 1e-5],\n",
    "            \"C\": range(1,1000,20)\n",
    "        }\n",
    "        grid_svc, grid_time = grid_search(X_train, y_train, svc3, \n",
    "                                          default_grid_search_params if not grid_search_params else grid_search_params)\n",
    "        grid_acc = acc_score(grid_svc, X_test, y_test)\n",
    "        \n",
    "        # SMBO Tuning\n",
    "        smbo_config_space = [((gamma, C), optimizee(gamma, C)) for gamma, C in sample_configurations_svc(64)] if not smbo_config_space else smbo_config_space\n",
    "        smbo_svc, smbo_time = smbo_search(X_train, y_train, svc4, smbo_config_space)\n",
    "        smbo_acc = acc_score(smbo_svc, X_test, y_test)\n",
    "        \n",
    "        results.append({\n",
    "            \"Dataset\": id_,\n",
    "            \"Stock\": stock_acc,\n",
    "            \"Grid-Search\": grid_acc,\n",
    "            \"Random-Search\": rand_acc,\n",
    "            \"SMBO\": smbo_acc\n",
    "        })\n",
    "        \n",
    "    return results"
   ]
  },
  {
   "cell_type": "code",
   "execution_count": 27,
   "id": "973427b2-7a64-4a98-b6d4-04e783491661",
   "metadata": {
    "tags": []
   },
   "outputs": [
    {
     "ename": "NameError",
     "evalue": "name 'optimizee' is not defined",
     "output_type": "error",
     "traceback": [
      "\u001b[0;31m---------------------------------------------------------------------------\u001b[0m",
      "\u001b[0;31mNameError\u001b[0m                                 Traceback (most recent call last)",
      "Cell \u001b[0;32mIn[27], line 1\u001b[0m\n\u001b[0;32m----> 1\u001b[0m evaluate_svc([\u001b[38;5;241m1464\u001b[39m])\n",
      "Cell \u001b[0;32mIn[26], line 47\u001b[0m, in \u001b[0;36mevaluate_svc\u001b[0;34m(datasets_ids, random_search_params, grid_search_params, smbo_config_space)\u001b[0m\n\u001b[1;32m     44\u001b[0m grid_acc \u001b[38;5;241m=\u001b[39m acc_score(grid_svc, X_test, y_test)\n\u001b[1;32m     46\u001b[0m \u001b[38;5;66;03m# SMBO Tuning\u001b[39;00m\n\u001b[0;32m---> 47\u001b[0m smbo_config_space \u001b[38;5;241m=\u001b[39m [((gamma, C), optimizee(gamma, C)) \u001b[38;5;28;01mfor\u001b[39;00m gamma, C \u001b[38;5;129;01min\u001b[39;00m sample_configurations_svc(\u001b[38;5;241m64\u001b[39m)] \u001b[38;5;28;01mif\u001b[39;00m \u001b[38;5;129;01mnot\u001b[39;00m smbo_config_space \u001b[38;5;28;01melse\u001b[39;00m smbo_config_space\n\u001b[1;32m     48\u001b[0m smbo_svc, smbo_time \u001b[38;5;241m=\u001b[39m smbo_search(X_train, y_train, svc4, smbo_config_space)\n\u001b[1;32m     49\u001b[0m smbo_acc \u001b[38;5;241m=\u001b[39m acc_score(smbo_svc, X_test, y_test)\n",
      "Cell \u001b[0;32mIn[26], line 47\u001b[0m, in \u001b[0;36m<listcomp>\u001b[0;34m(.0)\u001b[0m\n\u001b[1;32m     44\u001b[0m grid_acc \u001b[38;5;241m=\u001b[39m acc_score(grid_svc, X_test, y_test)\n\u001b[1;32m     46\u001b[0m \u001b[38;5;66;03m# SMBO Tuning\u001b[39;00m\n\u001b[0;32m---> 47\u001b[0m smbo_config_space \u001b[38;5;241m=\u001b[39m [((gamma, C), optimizee(gamma, C)) \u001b[38;5;28;01mfor\u001b[39;00m gamma, C \u001b[38;5;129;01min\u001b[39;00m sample_configurations_svc(\u001b[38;5;241m64\u001b[39m)] \u001b[38;5;28;01mif\u001b[39;00m \u001b[38;5;129;01mnot\u001b[39;00m smbo_config_space \u001b[38;5;28;01melse\u001b[39;00m smbo_config_space\n\u001b[1;32m     48\u001b[0m smbo_svc, smbo_time \u001b[38;5;241m=\u001b[39m smbo_search(X_train, y_train, svc4, smbo_config_space)\n\u001b[1;32m     49\u001b[0m smbo_acc \u001b[38;5;241m=\u001b[39m acc_score(smbo_svc, X_test, y_test)\n",
      "\u001b[0;31mNameError\u001b[0m: name 'optimizee' is not defined"
     ]
    }
   ],
   "source": [
    "evaluate_svc([1464])"
   ]
  },
  {
   "cell_type": "code",
   "execution_count": null,
   "id": "5c7f0e94-9721-41e2-9ea8-217e44ec40c8",
   "metadata": {},
   "outputs": [],
   "source": [
    "def evaluate_svr(datasets_ids):\n",
    "    for dataset in datasets:\n",
    "        X = pd.DataFrame(data=bunch_dataset.data, columns=bunch_dataset.feature_names)  \n",
    "        y = bunch_dataset.target\n",
    "        \n",
    "        X_train, X_test, y_train, y_test = train_test_split(X, y, random_state=0, test_size=0.3)\n",
    "        \n",
    "        # Initialize Support Vector Regressor\n",
    "        svr1, svr2, svr3 = svm.SVR(), svm.SVR(), svm.SVR()"
   ]
  },
  {
   "cell_type": "code",
   "execution_count": null,
   "id": "cbd9c9e1-14c0-4d7f-8888-deea2c9ca356",
   "metadata": {},
   "outputs": [],
   "source": [
    "def evaluate_mlpc(datasets_ids):\n",
    "    for dataset in datasets:\n",
    "        \n",
    "        X = pd.DataFrame(data=bunch_dataset.data, columns=bunch_dataset.feature_names)  \n",
    "        y = bunch_dataset.target\n",
    "        \n",
    "        X_train, X_test, y_train, y_test = train_test_split(X, y, random_state=0, test_size=0.3)\n",
    "        \n",
    "        # Initilize Multi-Layer Perceptron Classifier\n",
    "        mlpc1 = MLPClassifier(random_state=1, max_iter=200)\n",
    "        mlpc2 = MLPClassifier(random_state=1, max_iter=200)\n",
    "        mlpc3 = MLPClassifier(random_state=1, max_iter=200)"
   ]
  },
  {
   "cell_type": "code",
   "execution_count": null,
   "id": "ef1076ec-f76b-4ed1-ae03-3d0f0ddb7754",
   "metadata": {},
   "outputs": [],
   "source": [
    "def evaluate_mlpr(datasets_ids):\n",
    "    for dataset in datasets:\n",
    "        X = pd.DataFrame(data=bunch_dataset.data, columns=bunch_dataset.feature_names)  \n",
    "        y = bunch_dataset.target\n",
    "        \n",
    "        X_train, X_test, y_train, y_test = train_test_split(X, y, random_state=0, test_size=0.3)\n",
    "        \n",
    "        # Initilize Multi-Layer Perceptron Regressor\n",
    "        mlpr1 = MLPRegressor(random_state=1, max_iter=200)\n",
    "        mlpr2 = MLPRegressor(random_state=1, max_iter=200)\n",
    "        mlpr3 = MLPRegressor(random_state=1, max_iter=200)"
   ]
  }
 ],
 "metadata": {
  "kernelspec": {
   "display_name": "Python 3 (ipykernel)",
   "language": "python",
   "name": "python3"
  },
  "language_info": {
   "codemirror_mode": {
    "name": "ipython",
    "version": 3
   },
   "file_extension": ".py",
   "mimetype": "text/x-python",
   "name": "python",
   "nbconvert_exporter": "python",
   "pygments_lexer": "ipython3",
   "version": "3.11.4"
  }
 },
 "nbformat": 4,
 "nbformat_minor": 5
}
